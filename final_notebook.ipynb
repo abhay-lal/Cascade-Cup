{
 "cells": [
  {
   "cell_type": "code",
   "execution_count": 1,
   "id": "c0d53cc1",
   "metadata": {},
   "outputs": [],
   "source": [
    "import pandas as pd\n",
    "import numpy as np\n",
    "import seaborn as sns\n",
    "import matplotlib.pyplot as plt\n",
    "\n",
    "from sklearn.impute import KNNImputer, SimpleImputer\n",
    "from sklearn.preprocessing import StandardScaler\n",
    "from sklearn.model_selection import train_test_split\n",
    "from sklearn.metrics import accuracy_score, f1_score, classification_report, ConfusionMatrixDisplay, RocCurveDisplay\n",
    "\n",
    "from sklearn.ensemble import RandomForestClassifier\n",
    "import xgboost as xgb\n",
    "from imblearn.over_sampling import ADASYN\n",
    "\n",
    "plt.style.use('seaborn')\n",
    "%matplotlib inline"
   ]
  },
  {
   "cell_type": "code",
   "execution_count": 2,
   "id": "7ecbdd86",
   "metadata": {},
   "outputs": [
    {
     "name": "stdout",
     "output_type": "stream",
     "text": [
      "<class 'pandas.core.frame.DataFrame'>\n",
      "RangeIndex: 450000 entries, 0 to 449999\n",
      "Data columns (total 20 columns):\n",
      " #   Column                Non-Null Count   Dtype  \n",
      "---  ------                --------------   -----  \n",
      " 0   order_time            450000 non-null  object \n",
      " 1   order_id              450000 non-null  int64  \n",
      " 2   order_date            450000 non-null  object \n",
      " 3   allot_time            450000 non-null  object \n",
      " 4   accept_time           449843 non-null  object \n",
      " 5   pickup_time           447579 non-null  object \n",
      " 6   delivered_time        444782 non-null  object \n",
      " 7   rider_id              450000 non-null  int64  \n",
      " 8   first_mile_distance   450000 non-null  float64\n",
      " 9   last_mile_distance    450000 non-null  float64\n",
      " 10  alloted_orders        433052 non-null  float64\n",
      " 11  delivered_orders      432659 non-null  float64\n",
      " 12  cancelled             450000 non-null  int64  \n",
      " 13  undelivered_orders    432659 non-null  float64\n",
      " 14  lifetime_order_count  449947 non-null  float64\n",
      " 15  reassignment_method   13744 non-null   object \n",
      " 16  reassignment_reason   13753 non-null   object \n",
      " 17  reassigned_order      13753 non-null   float64\n",
      " 18  session_time          446325 non-null  float64\n",
      " 19  cancelled_time        5218 non-null    object \n",
      "dtypes: float64(8), int64(3), object(9)\n",
      "memory usage: 68.7+ MB\n"
     ]
    }
   ],
   "source": [
    "train_df = pd.read_csv(\"train.csv\")\n",
    "test=pd.read_csv(\"test.csv\")\n",
    "train_df.info()"
   ]
  },
  {
   "cell_type": "code",
   "execution_count": 3,
   "id": "a155d66b",
   "metadata": {},
   "outputs": [],
   "source": [
    "df = train_df.drop(['cancelled_time', 'pickup_time', 'delivered_time'], axis=1)\n"
   ]
  },
  {
   "cell_type": "code",
   "execution_count": 4,
   "id": "f9e1fa2b",
   "metadata": {},
   "outputs": [],
   "source": [
    "df.drop(['order_id', 'rider_id'], axis=1, inplace=True)"
   ]
  },
  {
   "cell_type": "code",
   "execution_count": 5,
   "id": "4dce711a",
   "metadata": {},
   "outputs": [],
   "source": [
    "test.drop(['order_id', 'rider_id'], axis=1, inplace=True)"
   ]
  },
  {
   "cell_type": "code",
   "execution_count": 6,
   "id": "ad1a0c35",
   "metadata": {},
   "outputs": [],
   "source": [
    "df.fillna({'reassigned_order': 0.0, 'reassignment_method': 'NA', 'reassignment_reason': 'NA'}, inplace=True)"
   ]
  },
  {
   "cell_type": "code",
   "execution_count": 7,
   "id": "b5d03cb1",
   "metadata": {},
   "outputs": [],
   "source": [
    "test.fillna({'reassigned_order': 0.0, 'reassignment_method': 'NA', 'reassignment_reason': 'NA'}, inplace=True)"
   ]
  },
  {
   "cell_type": "code",
   "execution_count": 8,
   "id": "67c05c7f",
   "metadata": {},
   "outputs": [],
   "source": [
    "df['delivered_perc'] = (df['delivered_orders'] / df['alloted_orders'])\n",
    "df.drop(['delivered_orders', 'alloted_orders', 'undelivered_orders'], axis=1, inplace=True)"
   ]
  },
  {
   "cell_type": "code",
   "execution_count": 9,
   "id": "4a6ad4c9",
   "metadata": {},
   "outputs": [],
   "source": [
    "test['delivered_perc'] = (test['delivered_orders'] / test['alloted_orders'])\n",
    "test.drop(['delivered_orders', 'alloted_orders', 'undelivered_orders'], axis=1, inplace=True)"
   ]
  },
  {
   "cell_type": "code",
   "execution_count": 10,
   "id": "1f346971",
   "metadata": {},
   "outputs": [],
   "source": [
    "df.drop(['order_date'], axis=1, inplace=True)\n",
    "df['order_time'] = df['order_time'].astype('datetime64[ns]')\n",
    "df['allot_time'] = df['allot_time'].astype('datetime64[ns]')\n",
    "df['accept_time'] = df['accept_time'].astype('datetime64[ns]')\n",
    "\n",
    "df['allot_accept_lag'] = df['accept_time'] - df['allot_time']\n",
    "df['allot_accept_lag'] = df['allot_accept_lag'].dt.total_seconds()\n",
    "\n",
    "df.drop(['allot_time', 'accept_time'], axis=1, inplace=True)"
   ]
  },
  {
   "cell_type": "code",
   "execution_count": 11,
   "id": "89c8f1e5",
   "metadata": {},
   "outputs": [],
   "source": [
    "test.drop(['order_date'], axis=1, inplace=True)\n",
    "test['order_time'] = test['order_time'].astype('datetime64[ns]')\n",
    "test['allot_time'] = test['allot_time'].astype('datetime64[ns]')\n",
    "test['accept_time'] = test['accept_time'].astype('datetime64[ns]')\n",
    "\n",
    "test['allot_accept_lag'] = test['accept_time'] - test['allot_time']\n",
    "test['allot_accept_lag'] = test['allot_accept_lag'].dt.total_seconds()\n",
    "\n",
    "test.drop(['allot_time', 'accept_time'], axis=1, inplace=True)"
   ]
  },
  {
   "cell_type": "code",
   "execution_count": 12,
   "id": "497947c0",
   "metadata": {},
   "outputs": [],
   "source": [
    "hour = df['order_time'].dt.hour  # 0, 1, 2, ..., 23\n",
    "day = df['order_time'].dt.weekday  # 0, 1, ..., 6 (mon=0, sun=6)\n",
    "is_weekend = [1 if i in [5, 6] else 0 for i in day]\n",
    "\n",
    "df['order_hour'] = hour\n",
    "df['order_day'] = day\n",
    "df['order_is_weekend'] = is_weekend\n",
    "\n",
    "df.drop(['order_time'], axis=1, inplace=True)"
   ]
  },
  {
   "cell_type": "code",
   "execution_count": 13,
   "id": "93506314",
   "metadata": {},
   "outputs": [],
   "source": [
    "hour = test['order_time'].dt.hour  # 0, 1, 2, ..., 23\n",
    "day = test['order_time'].dt.weekday  # 0, 1, ..., 6 (mon=0, sun=6)\n",
    "is_weekend = [1 if i in [5, 6] else 0 for i in day]\n",
    "\n",
    "test['order_hour'] = hour\n",
    "test['order_day'] = day\n",
    "test['order_is_weekend'] = is_weekend\n",
    "\n",
    "test.drop(['order_time'], axis=1, inplace=True)"
   ]
  },
  {
   "cell_type": "code",
   "execution_count": 14,
   "id": "719636ef",
   "metadata": {},
   "outputs": [],
   "source": [
    "dummies  = pd.get_dummies(df['reassignment_method'], prefix='method')\n",
    "df = pd.concat((df, dummies), axis=1)\n",
    "df.drop(['reassignment_method'], axis=1, inplace=True)\n",
    "\n",
    "dummies  = pd.get_dummies(df['reassignment_reason'], prefix='reason')\n",
    "df = pd.concat((df, dummies), axis=1)\n",
    "df.drop(['reassignment_reason'], axis=1, inplace=True)"
   ]
  },
  {
   "cell_type": "code",
   "execution_count": 15,
   "id": "c7ac4d72",
   "metadata": {},
   "outputs": [],
   "source": [
    "dummies  = pd.get_dummies(test['reassignment_method'], prefix='method')\n",
    "test = pd.concat((test, dummies), axis=1)\n",
    "test.drop(['reassignment_method'], axis=1, inplace=True)\n",
    "\n",
    "dummies  = pd.get_dummies(test['reassignment_reason'], prefix='reason')\n",
    "test = pd.concat((test, dummies), axis=1)\n",
    "test.drop(['reassignment_reason'], axis=1, inplace=True)"
   ]
  },
  {
   "cell_type": "code",
   "execution_count": 16,
   "id": "6412bffa",
   "metadata": {},
   "outputs": [],
   "source": [
    "def encode(data, col, max_val):\n",
    "    data[col + '_sin'] = np.sin(2 * np.pi * data[col]/max_val)\n",
    "    data[col + '_cos'] = np.cos(2 * np.pi * data[col]/max_val)\n",
    "    return data\n",
    "\n",
    "df = encode(df, 'order_hour', 23)\n",
    "df = encode(df, 'order_day', 6)"
   ]
  },
  {
   "cell_type": "code",
   "execution_count": 17,
   "id": "1e27cb09",
   "metadata": {},
   "outputs": [
    {
     "data": {
      "text/html": [
       "<div>\n",
       "<style scoped>\n",
       "    .dataframe tbody tr th:only-of-type {\n",
       "        vertical-align: middle;\n",
       "    }\n",
       "\n",
       "    .dataframe tbody tr th {\n",
       "        vertical-align: top;\n",
       "    }\n",
       "\n",
       "    .dataframe thead th {\n",
       "        text-align: right;\n",
       "    }\n",
       "</style>\n",
       "<table border=\"1\" class=\"dataframe\">\n",
       "  <thead>\n",
       "    <tr style=\"text-align: right;\">\n",
       "      <th></th>\n",
       "      <th>order_id</th>\n",
       "      <th>rider_id</th>\n",
       "      <th>first_mile_distance</th>\n",
       "      <th>last_mile_distance</th>\n",
       "      <th>lifetime_order_count</th>\n",
       "      <th>reassigned_order</th>\n",
       "      <th>session_time</th>\n",
       "      <th>delivered_perc</th>\n",
       "      <th>allot_accept_lag</th>\n",
       "      <th>order_hour</th>\n",
       "      <th>order_day</th>\n",
       "      <th>order_is_weekend</th>\n",
       "      <th>method_NA</th>\n",
       "      <th>method_auto</th>\n",
       "      <th>method_manual</th>\n",
       "      <th>reason_Auto Reassignment basis Inaction. coreengine.tasks.repush_order_to_aa_bucket</th>\n",
       "      <th>reason_NA</th>\n",
       "      <th>reason_Reassign</th>\n",
       "      <th>reason_Reassignment Request from SE portal.</th>\n",
       "    </tr>\n",
       "  </thead>\n",
       "  <tbody>\n",
       "    <tr>\n",
       "      <th>0</th>\n",
       "      <td>130231</td>\n",
       "      <td>12884</td>\n",
       "      <td>1.658500</td>\n",
       "      <td>4.54</td>\n",
       "      <td>747.0</td>\n",
       "      <td>0.0</td>\n",
       "      <td>273.400000</td>\n",
       "      <td>0.995370</td>\n",
       "      <td>26.0</td>\n",
       "      <td>10</td>\n",
       "      <td>5</td>\n",
       "      <td>1</td>\n",
       "      <td>1</td>\n",
       "      <td>0</td>\n",
       "      <td>0</td>\n",
       "      <td>0</td>\n",
       "      <td>1</td>\n",
       "      <td>0</td>\n",
       "      <td>0</td>\n",
       "    </tr>\n",
       "    <tr>\n",
       "      <th>1</th>\n",
       "      <td>130232</td>\n",
       "      <td>3541</td>\n",
       "      <td>2.070900</td>\n",
       "      <td>5.84</td>\n",
       "      <td>75.0</td>\n",
       "      <td>0.0</td>\n",
       "      <td>252.100000</td>\n",
       "      <td>1.000000</td>\n",
       "      <td>9.0</td>\n",
       "      <td>10</td>\n",
       "      <td>5</td>\n",
       "      <td>1</td>\n",
       "      <td>1</td>\n",
       "      <td>0</td>\n",
       "      <td>0</td>\n",
       "      <td>0</td>\n",
       "      <td>1</td>\n",
       "      <td>0</td>\n",
       "      <td>0</td>\n",
       "    </tr>\n",
       "    <tr>\n",
       "      <th>2</th>\n",
       "      <td>130233</td>\n",
       "      <td>603</td>\n",
       "      <td>1.388400</td>\n",
       "      <td>0.99</td>\n",
       "      <td>2214.0</td>\n",
       "      <td>0.0</td>\n",
       "      <td>241.383333</td>\n",
       "      <td>1.000000</td>\n",
       "      <td>80.0</td>\n",
       "      <td>10</td>\n",
       "      <td>5</td>\n",
       "      <td>1</td>\n",
       "      <td>1</td>\n",
       "      <td>0</td>\n",
       "      <td>0</td>\n",
       "      <td>0</td>\n",
       "      <td>1</td>\n",
       "      <td>0</td>\n",
       "      <td>0</td>\n",
       "    </tr>\n",
       "    <tr>\n",
       "      <th>3</th>\n",
       "      <td>130234</td>\n",
       "      <td>3414</td>\n",
       "      <td>1.903900</td>\n",
       "      <td>2.59</td>\n",
       "      <td>1020.0</td>\n",
       "      <td>0.0</td>\n",
       "      <td>291.933333</td>\n",
       "      <td>0.976000</td>\n",
       "      <td>23.0</td>\n",
       "      <td>10</td>\n",
       "      <td>5</td>\n",
       "      <td>1</td>\n",
       "      <td>1</td>\n",
       "      <td>0</td>\n",
       "      <td>0</td>\n",
       "      <td>0</td>\n",
       "      <td>1</td>\n",
       "      <td>0</td>\n",
       "      <td>0</td>\n",
       "    </tr>\n",
       "    <tr>\n",
       "      <th>4</th>\n",
       "      <td>130235</td>\n",
       "      <td>1426</td>\n",
       "      <td>0.827500</td>\n",
       "      <td>0.94</td>\n",
       "      <td>7284.0</td>\n",
       "      <td>0.0</td>\n",
       "      <td>247.133333</td>\n",
       "      <td>0.994318</td>\n",
       "      <td>60.0</td>\n",
       "      <td>10</td>\n",
       "      <td>5</td>\n",
       "      <td>1</td>\n",
       "      <td>1</td>\n",
       "      <td>0</td>\n",
       "      <td>0</td>\n",
       "      <td>0</td>\n",
       "      <td>1</td>\n",
       "      <td>0</td>\n",
       "      <td>0</td>\n",
       "    </tr>\n",
       "    <tr>\n",
       "      <th>...</th>\n",
       "      <td>...</td>\n",
       "      <td>...</td>\n",
       "      <td>...</td>\n",
       "      <td>...</td>\n",
       "      <td>...</td>\n",
       "      <td>...</td>\n",
       "      <td>...</td>\n",
       "      <td>...</td>\n",
       "      <td>...</td>\n",
       "      <td>...</td>\n",
       "      <td>...</td>\n",
       "      <td>...</td>\n",
       "      <td>...</td>\n",
       "      <td>...</td>\n",
       "      <td>...</td>\n",
       "      <td>...</td>\n",
       "      <td>...</td>\n",
       "      <td>...</td>\n",
       "      <td>...</td>\n",
       "    </tr>\n",
       "    <tr>\n",
       "      <th>144839</th>\n",
       "      <td>41184</td>\n",
       "      <td>7141</td>\n",
       "      <td>1.417000</td>\n",
       "      <td>3.96</td>\n",
       "      <td>413.0</td>\n",
       "      <td>0.0</td>\n",
       "      <td>179.266667</td>\n",
       "      <td>1.000000</td>\n",
       "      <td>9.0</td>\n",
       "      <td>20</td>\n",
       "      <td>1</td>\n",
       "      <td>0</td>\n",
       "      <td>1</td>\n",
       "      <td>0</td>\n",
       "      <td>0</td>\n",
       "      <td>0</td>\n",
       "      <td>1</td>\n",
       "      <td>0</td>\n",
       "      <td>0</td>\n",
       "    </tr>\n",
       "    <tr>\n",
       "      <th>144840</th>\n",
       "      <td>41185</td>\n",
       "      <td>8113</td>\n",
       "      <td>0.775600</td>\n",
       "      <td>1.61</td>\n",
       "      <td>284.0</td>\n",
       "      <td>0.0</td>\n",
       "      <td>244.400000</td>\n",
       "      <td>0.978947</td>\n",
       "      <td>34.0</td>\n",
       "      <td>20</td>\n",
       "      <td>1</td>\n",
       "      <td>0</td>\n",
       "      <td>1</td>\n",
       "      <td>0</td>\n",
       "      <td>0</td>\n",
       "      <td>0</td>\n",
       "      <td>1</td>\n",
       "      <td>0</td>\n",
       "      <td>0</td>\n",
       "    </tr>\n",
       "    <tr>\n",
       "      <th>144841</th>\n",
       "      <td>41186</td>\n",
       "      <td>5040</td>\n",
       "      <td>2.049400</td>\n",
       "      <td>1.26</td>\n",
       "      <td>119.0</td>\n",
       "      <td>0.0</td>\n",
       "      <td>259.000000</td>\n",
       "      <td>1.000000</td>\n",
       "      <td>67.0</td>\n",
       "      <td>20</td>\n",
       "      <td>1</td>\n",
       "      <td>0</td>\n",
       "      <td>1</td>\n",
       "      <td>0</td>\n",
       "      <td>0</td>\n",
       "      <td>0</td>\n",
       "      <td>1</td>\n",
       "      <td>0</td>\n",
       "      <td>0</td>\n",
       "    </tr>\n",
       "    <tr>\n",
       "      <th>144842</th>\n",
       "      <td>41187</td>\n",
       "      <td>2946</td>\n",
       "      <td>0.080494</td>\n",
       "      <td>5.50</td>\n",
       "      <td>1759.0</td>\n",
       "      <td>0.0</td>\n",
       "      <td>814.283333</td>\n",
       "      <td>0.987013</td>\n",
       "      <td>24.0</td>\n",
       "      <td>20</td>\n",
       "      <td>1</td>\n",
       "      <td>0</td>\n",
       "      <td>1</td>\n",
       "      <td>0</td>\n",
       "      <td>0</td>\n",
       "      <td>0</td>\n",
       "      <td>1</td>\n",
       "      <td>0</td>\n",
       "      <td>0</td>\n",
       "    </tr>\n",
       "    <tr>\n",
       "      <th>144843</th>\n",
       "      <td>41188</td>\n",
       "      <td>8488</td>\n",
       "      <td>1.702100</td>\n",
       "      <td>4.13</td>\n",
       "      <td>43.0</td>\n",
       "      <td>0.0</td>\n",
       "      <td>161.533333</td>\n",
       "      <td>1.000000</td>\n",
       "      <td>78.0</td>\n",
       "      <td>20</td>\n",
       "      <td>1</td>\n",
       "      <td>0</td>\n",
       "      <td>1</td>\n",
       "      <td>0</td>\n",
       "      <td>0</td>\n",
       "      <td>0</td>\n",
       "      <td>1</td>\n",
       "      <td>0</td>\n",
       "      <td>0</td>\n",
       "    </tr>\n",
       "  </tbody>\n",
       "</table>\n",
       "<p>144844 rows × 19 columns</p>\n",
       "</div>"
      ],
      "text/plain": [
       "        order_id  rider_id  first_mile_distance  last_mile_distance  \\\n",
       "0         130231     12884             1.658500                4.54   \n",
       "1         130232      3541             2.070900                5.84   \n",
       "2         130233       603             1.388400                0.99   \n",
       "3         130234      3414             1.903900                2.59   \n",
       "4         130235      1426             0.827500                0.94   \n",
       "...          ...       ...                  ...                 ...   \n",
       "144839     41184      7141             1.417000                3.96   \n",
       "144840     41185      8113             0.775600                1.61   \n",
       "144841     41186      5040             2.049400                1.26   \n",
       "144842     41187      2946             0.080494                5.50   \n",
       "144843     41188      8488             1.702100                4.13   \n",
       "\n",
       "        lifetime_order_count  reassigned_order  session_time  delivered_perc  \\\n",
       "0                      747.0               0.0    273.400000        0.995370   \n",
       "1                       75.0               0.0    252.100000        1.000000   \n",
       "2                     2214.0               0.0    241.383333        1.000000   \n",
       "3                     1020.0               0.0    291.933333        0.976000   \n",
       "4                     7284.0               0.0    247.133333        0.994318   \n",
       "...                      ...               ...           ...             ...   \n",
       "144839                 413.0               0.0    179.266667        1.000000   \n",
       "144840                 284.0               0.0    244.400000        0.978947   \n",
       "144841                 119.0               0.0    259.000000        1.000000   \n",
       "144842                1759.0               0.0    814.283333        0.987013   \n",
       "144843                  43.0               0.0    161.533333        1.000000   \n",
       "\n",
       "        allot_accept_lag  order_hour  order_day  order_is_weekend  method_NA  \\\n",
       "0                   26.0          10          5                 1          1   \n",
       "1                    9.0          10          5                 1          1   \n",
       "2                   80.0          10          5                 1          1   \n",
       "3                   23.0          10          5                 1          1   \n",
       "4                   60.0          10          5                 1          1   \n",
       "...                  ...         ...        ...               ...        ...   \n",
       "144839               9.0          20          1                 0          1   \n",
       "144840              34.0          20          1                 0          1   \n",
       "144841              67.0          20          1                 0          1   \n",
       "144842              24.0          20          1                 0          1   \n",
       "144843              78.0          20          1                 0          1   \n",
       "\n",
       "        method_auto  method_manual  \\\n",
       "0                 0              0   \n",
       "1                 0              0   \n",
       "2                 0              0   \n",
       "3                 0              0   \n",
       "4                 0              0   \n",
       "...             ...            ...   \n",
       "144839            0              0   \n",
       "144840            0              0   \n",
       "144841            0              0   \n",
       "144842            0              0   \n",
       "144843            0              0   \n",
       "\n",
       "        reason_Auto Reassignment basis Inaction. coreengine.tasks.repush_order_to_aa_bucket  \\\n",
       "0                                                       0                                     \n",
       "1                                                       0                                     \n",
       "2                                                       0                                     \n",
       "3                                                       0                                     \n",
       "4                                                       0                                     \n",
       "...                                                   ...                                     \n",
       "144839                                                  0                                     \n",
       "144840                                                  0                                     \n",
       "144841                                                  0                                     \n",
       "144842                                                  0                                     \n",
       "144843                                                  0                                     \n",
       "\n",
       "        reason_NA  reason_Reassign  \\\n",
       "0               1                0   \n",
       "1               1                0   \n",
       "2               1                0   \n",
       "3               1                0   \n",
       "4               1                0   \n",
       "...           ...              ...   \n",
       "144839          1                0   \n",
       "144840          1                0   \n",
       "144841          1                0   \n",
       "144842          1                0   \n",
       "144843          1                0   \n",
       "\n",
       "        reason_Reassignment Request from SE portal.  \n",
       "0                                                 0  \n",
       "1                                                 0  \n",
       "2                                                 0  \n",
       "3                                                 0  \n",
       "4                                                 0  \n",
       "...                                             ...  \n",
       "144839                                            0  \n",
       "144840                                            0  \n",
       "144841                                            0  \n",
       "144842                                            0  \n",
       "144843                                            0  \n",
       "\n",
       "[144844 rows x 19 columns]"
      ]
     },
     "execution_count": 17,
     "metadata": {},
     "output_type": "execute_result"
    }
   ],
   "source": [
    "test"
   ]
  },
  {
   "cell_type": "code",
   "execution_count": 18,
   "id": "704a3e78",
   "metadata": {},
   "outputs": [],
   "source": [
    "def encode(data, col, max_val):\n",
    "    data[col + '_sin'] = np.sin(2 * np.pi * data[col]/max_val)\n",
    "    data[col + '_cos'] = np.cos(2 * np.pi * data[col]/max_val)\n",
    "    return data\n",
    "\n",
    "test = encode(test, 'order_hour', 23)\n",
    "test = encode(test, 'order_day', 6)"
   ]
  },
  {
   "cell_type": "code",
   "execution_count": 19,
   "id": "7aec3704",
   "metadata": {},
   "outputs": [],
   "source": [
    "df.drop(['order_hour', 'order_day'], axis=1, inplace=True)"
   ]
  },
  {
   "cell_type": "code",
   "execution_count": 20,
   "id": "9716355e",
   "metadata": {},
   "outputs": [],
   "source": [
    "test.drop(['order_hour', 'order_day'], axis=1, inplace=True)"
   ]
  },
  {
   "cell_type": "code",
   "execution_count": 21,
   "id": "210e22dd",
   "metadata": {},
   "outputs": [],
   "source": [
    "y = df['cancelled'].values\n",
    "X = df.drop(['cancelled'], axis=1)"
   ]
  },
  {
   "cell_type": "code",
   "execution_count": 22,
   "id": "2ae077ab",
   "metadata": {},
   "outputs": [],
   "source": [
    "X_test = test"
   ]
  },
  {
   "cell_type": "code",
   "execution_count": 23,
   "id": "3f3d52e8",
   "metadata": {},
   "outputs": [
    {
     "data": {
      "text/plain": [
       "((360000, 21), (90000, 21), (360000,), (90000,))"
      ]
     },
     "execution_count": 23,
     "metadata": {},
     "output_type": "execute_result"
    }
   ],
   "source": [
    "train_x, test_x, train_y, test_y = train_test_split(X, y, test_size=0.2, stratify=y)\n",
    "\n",
    "train_x.shape, test_x.shape, train_y.shape, test_y.shape"
   ]
  },
  {
   "cell_type": "code",
   "execution_count": 24,
   "id": "1f1de03a",
   "metadata": {},
   "outputs": [],
   "source": [
    "# TODO: Use KNNImputer\n",
    "imputer = SimpleImputer(strategy='mean')\n",
    "train_x = imputer.fit_transform(train_x)\n",
    "test_x = imputer.transform(test_x)"
   ]
  },
  {
   "cell_type": "code",
   "execution_count": 25,
   "id": "74158b5e",
   "metadata": {},
   "outputs": [],
   "source": [
    "X_test = imputer.fit_transform(X_test)"
   ]
  },
  {
   "cell_type": "code",
   "execution_count": 26,
   "id": "e84ef829",
   "metadata": {},
   "outputs": [
    {
     "data": {
      "text/plain": [
       "(array([355826,   4174]), array([88956,  1044]))"
      ]
     },
     "execution_count": 26,
     "metadata": {},
     "output_type": "execute_result"
    }
   ],
   "source": [
    "np.bincount(train_y), np.bincount(test_y)"
   ]
  },
  {
   "cell_type": "code",
   "execution_count": 27,
   "id": "cd49d663",
   "metadata": {},
   "outputs": [],
   "source": [
    "oversampler = ADASYN()\n",
    "train_x, train_y = oversampler.fit_resample(train_x, train_y)"
   ]
  },
  {
   "cell_type": "code",
   "execution_count": 28,
   "id": "2df7aa18",
   "metadata": {},
   "outputs": [
    {
     "data": {
      "text/plain": [
       "(array([355826, 356304]), array([88956,  1044]))"
      ]
     },
     "execution_count": 28,
     "metadata": {},
     "output_type": "execute_result"
    }
   ],
   "source": [
    "np.bincount(train_y), np.bincount(test_y)"
   ]
  },
  {
   "cell_type": "code",
   "execution_count": 29,
   "id": "80a9336a",
   "metadata": {},
   "outputs": [
    {
     "data": {
      "text/plain": [
       "(5.545460814862604e-13,\n",
       " 1.0000000000003417,\n",
       " -0.018843929949489517,\n",
       " 0.8845818778021463)"
      ]
     },
     "execution_count": 29,
     "metadata": {},
     "output_type": "execute_result"
    }
   ],
   "source": [
    "scaler = StandardScaler()\n",
    "train_x = scaler.fit_transform(train_x)\n",
    "test_x = scaler.transform(test_x)\n",
    "\n",
    "train_x.mean(), train_x.std(), test_x.mean(), test_x.std()"
   ]
  },
  {
   "cell_type": "markdown",
   "id": "9e485e29",
   "metadata": {},
   "source": [
    "# Model Building"
   ]
  },
  {
   "cell_type": "code",
   "execution_count": 108,
   "id": "b4404fcf",
   "metadata": {},
   "outputs": [
    {
     "name": "stderr",
     "output_type": "stream",
     "text": [
      "/Users/abhaylal/opt/anaconda3/lib/python3.8/site-packages/xgboost/sklearn.py:1224: UserWarning: The use of label encoder in XGBClassifier is deprecated and will be removed in a future release. To remove this warning, do the following: 1) Pass option use_label_encoder=False when constructing XGBClassifier object; and 2) Encode your labels (y) as integers starting with 0, i.e. 0, 1, 2, ..., [num_class - 1].\n",
      "  warnings.warn(label_encoder_deprecation_msg, UserWarning)\n"
     ]
    },
    {
     "name": "stdout",
     "output_type": "stream",
     "text": [
      "[20:12:35] WARNING: /Users/runner/work/xgboost/xgboost/src/learner.cc:1115: Starting in XGBoost 1.3.0, the default evaluation metric used with the objective 'binary:logistic' was changed from 'error' to 'logloss'. Explicitly set eval_metric if you'd like to restore the old behavior.\n",
      "0.991192090696637 0.9911322702602698\n",
      "0.9881444444444445 0.07136640557006092\n"
     ]
    }
   ],
   "source": [
    "model = xgb.XGBClassifier(n_estimators=100)\n",
    "model.fit(train_x, train_y)\n",
    "\n",
    "train_preds = model.predict(train_x)\n",
    "test_preds = model.predict(test_x)\n",
    "\n",
    "test_accuracy = accuracy_score(test_y, test_preds)\n",
    "test_f1 = f1_score(test_y, test_preds)\n",
    "train_accuracy = accuracy_score(train_y, train_preds)\n",
    "train_f1 = f1_score(train_y, train_preds)\n",
    "\n",
    "print(train_accuracy, train_f1)\n",
    "print(test_accuracy, test_f1)"
   ]
  },
  {
   "cell_type": "code",
   "execution_count": 96,
   "id": "2e76165b",
   "metadata": {
    "scrolled": true
   },
   "outputs": [
    {
     "ename": "AttributeError",
     "evalue": "type object 'ConfusionMatrixDisplay' has no attribute 'from_predictions'",
     "output_type": "error",
     "traceback": [
      "\u001b[0;31m---------------------------------------------------------------------------\u001b[0m",
      "\u001b[0;31mAttributeError\u001b[0m                            Traceback (most recent call last)",
      "\u001b[0;32m/var/folders/8w/s79vcmt129n8trzthj89p7hm0000gn/T/ipykernel_2575/1966327725.py\u001b[0m in \u001b[0;36m<module>\u001b[0;34m\u001b[0m\n\u001b[0;32m----> 1\u001b[0;31m \u001b[0mConfusionMatrixDisplay\u001b[0m\u001b[0;34m.\u001b[0m\u001b[0mfrom_predictions\u001b[0m\u001b[0;34m(\u001b[0m\u001b[0mtest_y\u001b[0m\u001b[0;34m,\u001b[0m \u001b[0mtest_preds\u001b[0m\u001b[0;34m,\u001b[0m \u001b[0mcmap\u001b[0m\u001b[0;34m=\u001b[0m\u001b[0;34m'coolwarm'\u001b[0m\u001b[0;34m)\u001b[0m\u001b[0;34m\u001b[0m\u001b[0;34m\u001b[0m\u001b[0m\n\u001b[0m\u001b[1;32m      2\u001b[0m \u001b[0mplt\u001b[0m\u001b[0;34m.\u001b[0m\u001b[0mgrid\u001b[0m\u001b[0;34m(\u001b[0m\u001b[0;32mFalse\u001b[0m\u001b[0;34m)\u001b[0m\u001b[0;34m\u001b[0m\u001b[0;34m\u001b[0m\u001b[0m\n",
      "\u001b[0;31mAttributeError\u001b[0m: type object 'ConfusionMatrixDisplay' has no attribute 'from_predictions'"
     ]
    }
   ],
   "source": [
    "ConfusionMatrixDisplay.from_predictions(test_y, test_preds, cmap='coolwarm')\n",
    "plt.grid(False)"
   ]
  },
  {
   "cell_type": "code",
   "execution_count": null,
   "id": "fd29f412",
   "metadata": {},
   "outputs": [
    {
     "ename": "AttributeError",
     "evalue": "type object 'ConfusionMatrixDisplay' has no attribute 'from_predictions'",
     "output_type": "error",
     "traceback": [
      "\u001b[0;31m---------------------------------------------------------------------------\u001b[0m",
      "\u001b[0;31mAttributeError\u001b[0m                            Traceback (most recent call last)",
      "\u001b[0;32m/var/folders/8w/s79vcmt129n8trzthj89p7hm0000gn/T/ipykernel_2575/3059989541.py\u001b[0m in \u001b[0;36m<module>\u001b[0;34m\u001b[0m\n\u001b[0;32m----> 1\u001b[0;31m \u001b[0mConfusionMatrixDisplay\u001b[0m\u001b[0;34m.\u001b[0m\u001b[0mfrom_predictions\u001b[0m\u001b[0;34m(\u001b[0m\u001b[0mtrain_y\u001b[0m\u001b[0;34m,\u001b[0m \u001b[0mtrain_preds\u001b[0m\u001b[0;34m,\u001b[0m \u001b[0mcmap\u001b[0m\u001b[0;34m=\u001b[0m\u001b[0;34m'coolwarm'\u001b[0m\u001b[0;34m)\u001b[0m\u001b[0;34m\u001b[0m\u001b[0;34m\u001b[0m\u001b[0m\n\u001b[0m\u001b[1;32m      2\u001b[0m \u001b[0mplt\u001b[0m\u001b[0;34m.\u001b[0m\u001b[0mgrid\u001b[0m\u001b[0;34m(\u001b[0m\u001b[0;32mFalse\u001b[0m\u001b[0;34m)\u001b[0m\u001b[0;34m\u001b[0m\u001b[0;34m\u001b[0m\u001b[0m\n",
      "\u001b[0;31mAttributeError\u001b[0m: type object 'ConfusionMatrixDisplay' has no attribute 'from_predictions'"
     ]
    }
   ],
   "source": [
    "ConfusionMatrixDisplay.from_predictions(train_y, train_preds, cmap='coolwarm')\n",
    "plt.grid(False)"
   ]
  },
  {
   "cell_type": "code",
   "execution_count": null,
   "id": "c8ecd3b0",
   "metadata": {
    "scrolled": true
   },
   "outputs": [
    {
     "data": {
      "image/png": "[encoded data removed]",
      "text/plain": [
       "<Figure size 432x288 with 1 Axes>"
      ]
     },
     "metadata": {
      "needs_background": "light"
     },
     "output_type": "display_data"
    }
   ],
   "source": [
    "RocCurveDisplay.from_predictions(test_y, test_preds)\n",
    "plt.show()"
   ]
  },
  {
   "cell_type": "code",
   "execution_count": null,
   "id": "60ff7c0f",
   "metadata": {},
   "outputs": [
    {
     "data": {
      "image/png": "[encoded data removed]",
      "text/plain": [
       "<Figure size 432x288 with 1 Axes>"
      ]
     },
     "metadata": {
      "needs_background": "light"
     },
     "output_type": "display_data"
    }
   ],
   "source": [
    "RocCurveDisplay.from_predictions(train_y, train_preds)\n",
    "plt.show()"
   ]
  },
  {
   "cell_type": "code",
   "execution_count": null,
   "id": "3a478e50",
   "metadata": {},
   "outputs": [
    {
     "data": {
      "text/plain": [
       "array([[ 1.30231000e+05,  1.28840000e+04,  1.65850000e+00, ...,\n",
       "        -9.17211302e-01, -8.66025404e-01,  5.00000000e-01],\n",
       "       [ 1.30232000e+05,  3.54100000e+03,  2.07090000e+00, ...,\n",
       "        -9.17211302e-01, -8.66025404e-01,  5.00000000e-01],\n",
       "       [ 1.30233000e+05,  6.03000000e+02,  1.38840000e+00, ...,\n",
       "        -9.17211302e-01, -8.66025404e-01,  5.00000000e-01],\n",
       "       ...,\n",
       "       [ 4.11860000e+04,  5.04000000e+03,  2.04940000e+00, ...,\n",
       "         6.82553143e-01,  8.66025404e-01,  5.00000000e-01],\n",
       "       [ 4.11870000e+04,  2.94600000e+03,  8.04939927e-02, ...,\n",
       "         6.82553143e-01,  8.66025404e-01,  5.00000000e-01],\n",
       "       [ 4.11880000e+04,  8.48800000e+03,  1.70210000e+00, ...,\n",
       "         6.82553143e-01,  8.66025404e-01,  5.00000000e-01]])"
      ]
     },
     "execution_count": 66,
     "metadata": {},
     "output_type": "execute_result"
    }
   ],
   "source": []
  },
  {
   "cell_type": "code",
   "execution_count": 109,
   "id": "82c5b746",
   "metadata": {},
   "outputs": [
    {
     "data": {
      "text/plain": [
       "array([1, 1, 1, ..., 1, 1, 1])"
      ]
     },
     "execution_count": 109,
     "metadata": {},
     "output_type": "execute_result"
    }
   ],
   "source": [
    "model.predict(X_test)"
   ]
  },
  {
   "cell_type": "code",
   "execution_count": 133,
   "id": "bd7761d5",
   "metadata": {},
   "outputs": [
    {
     "name": "stdout",
     "output_type": "stream",
     "text": [
      "Estimate: 85.240\n"
     ]
    }
   ],
   "source": [
    "from collections import Counter\n",
    "counter = Counter(y)\n",
    "# estimate scale_pos_weight value\n",
    "estimate = counter[0] / counter[1]\n",
    "print('Estimate: %.3f' % estimate)"
   ]
  },
  {
   "cell_type": "code",
   "execution_count": 31,
   "id": "172c9c83",
   "metadata": {},
   "outputs": [],
   "source": [
    "final=pd.DataFrame()"
   ]
  },
  {
   "cell_type": "code",
   "execution_count": 32,
   "id": "2eae9209",
   "metadata": {},
   "outputs": [],
   "source": [
    "new_test=pd.read_csv('test.csv')"
   ]
  },
  {
   "cell_type": "code",
   "execution_count": 33,
   "id": "7372002e",
   "metadata": {},
   "outputs": [],
   "source": [
    "final['order_id']=new_test['order_id']"
   ]
  },
  {
   "cell_type": "code",
   "execution_count": 34,
   "id": "0df12ccc",
   "metadata": {},
   "outputs": [],
   "source": [
    "final['cancelled']=model.predict(X_test)"
   ]
  },
  {
   "cell_type": "code",
   "execution_count": 35,
   "id": "5e1c9148",
   "metadata": {},
   "outputs": [
    {
     "data": {
      "text/html": [
       "<div>\n",
       "<style scoped>\n",
       "    .dataframe tbody tr th:only-of-type {\n",
       "        vertical-align: middle;\n",
       "    }\n",
       "\n",
       "    .dataframe tbody tr th {\n",
       "        vertical-align: top;\n",
       "    }\n",
       "\n",
       "    .dataframe thead th {\n",
       "        text-align: right;\n",
       "    }\n",
       "</style>\n",
       "<table border=\"1\" class=\"dataframe\">\n",
       "  <thead>\n",
       "    <tr style=\"text-align: right;\">\n",
       "      <th></th>\n",
       "      <th>order_id</th>\n",
       "      <th>cancelled</th>\n",
       "    </tr>\n",
       "  </thead>\n",
       "  <tbody>\n",
       "    <tr>\n",
       "      <th>0</th>\n",
       "      <td>130231</td>\n",
       "      <td>0</td>\n",
       "    </tr>\n",
       "    <tr>\n",
       "      <th>1</th>\n",
       "      <td>130232</td>\n",
       "      <td>0</td>\n",
       "    </tr>\n",
       "    <tr>\n",
       "      <th>2</th>\n",
       "      <td>130233</td>\n",
       "      <td>0</td>\n",
       "    </tr>\n",
       "    <tr>\n",
       "      <th>3</th>\n",
       "      <td>130234</td>\n",
       "      <td>0</td>\n",
       "    </tr>\n",
       "    <tr>\n",
       "      <th>4</th>\n",
       "      <td>130235</td>\n",
       "      <td>0</td>\n",
       "    </tr>\n",
       "    <tr>\n",
       "      <th>...</th>\n",
       "      <td>...</td>\n",
       "      <td>...</td>\n",
       "    </tr>\n",
       "    <tr>\n",
       "      <th>144839</th>\n",
       "      <td>41184</td>\n",
       "      <td>0</td>\n",
       "    </tr>\n",
       "    <tr>\n",
       "      <th>144840</th>\n",
       "      <td>41185</td>\n",
       "      <td>0</td>\n",
       "    </tr>\n",
       "    <tr>\n",
       "      <th>144841</th>\n",
       "      <td>41186</td>\n",
       "      <td>0</td>\n",
       "    </tr>\n",
       "    <tr>\n",
       "      <th>144842</th>\n",
       "      <td>41187</td>\n",
       "      <td>0</td>\n",
       "    </tr>\n",
       "    <tr>\n",
       "      <th>144843</th>\n",
       "      <td>41188</td>\n",
       "      <td>0</td>\n",
       "    </tr>\n",
       "  </tbody>\n",
       "</table>\n",
       "<p>144844 rows × 2 columns</p>\n",
       "</div>"
      ],
      "text/plain": [
       "        order_id  cancelled\n",
       "0         130231          0\n",
       "1         130232          0\n",
       "2         130233          0\n",
       "3         130234          0\n",
       "4         130235          0\n",
       "...          ...        ...\n",
       "144839     41184          0\n",
       "144840     41185          0\n",
       "144841     41186          0\n",
       "144842     41187          0\n",
       "144843     41188          0\n",
       "\n",
       "[144844 rows x 2 columns]"
      ]
     },
     "execution_count": 35,
     "metadata": {},
     "output_type": "execute_result"
    }
   ],
   "source": [
    "final"
   ]
  },
  {
   "cell_type": "code",
   "execution_count": 36,
   "id": "c109940a",
   "metadata": {},
   "outputs": [],
   "source": [
    "final.to_csv('submit_1.csv', index=False)"
   ]
  },
  {
   "cell_type": "code",
   "execution_count": 37,
   "id": "e92906b5",
   "metadata": {},
   "outputs": [
    {
     "data": {
      "text/plain": [
       "0    140172\n",
       "1      4672\n",
       "Name: cancelled, dtype: int64"
      ]
     },
     "execution_count": 37,
     "metadata": {},
     "output_type": "execute_result"
    }
   ],
   "source": [
    "final['cancelled'].value_counts()"
   ]
  },
  {
   "cell_type": "code",
   "execution_count": 163,
   "id": "1be8eef1",
   "metadata": {},
   "outputs": [
    {
     "data": {
      "text/plain": [
       "(144844, 2)"
      ]
     },
     "execution_count": 163,
     "metadata": {},
     "output_type": "execute_result"
    }
   ],
   "source": [
    "final.shape"
   ]
  },
  {
   "cell_type": "code",
   "execution_count": 30,
   "id": "7077e879",
   "metadata": {},
   "outputs": [
    {
     "name": "stderr",
     "output_type": "stream",
     "text": [
      "/Users/abhaylal/opt/anaconda3/lib/python3.8/site-packages/xgboost/sklearn.py:1224: UserWarning: The use of label encoder in XGBClassifier is deprecated and will be removed in a future release. To remove this warning, do the following: 1) Pass option use_label_encoder=False when constructing XGBClassifier object; and 2) Encode your labels (y) as integers starting with 0, i.e. 0, 1, 2, ..., [num_class - 1].\n",
      "  warnings.warn(label_encoder_deprecation_msg, UserWarning)\n"
     ]
    },
    {
     "name": "stdout",
     "output_type": "stream",
     "text": [
      "[18:35:35] WARNING: /Users/runner/work/xgboost/xgboost/src/learner.cc:1115: Starting in XGBoost 1.3.0, the default evaluation metric used with the objective 'binary:logistic' was changed from 'error' to 'logloss'. Explicitly set eval_metric if you'd like to restore the old behavior.\n"
     ]
    },
    {
     "data": {
      "text/plain": [
       "XGBClassifier(base_score=0.5, booster='gbtree', colsample_bylevel=1,\n",
       "              colsample_bynode=1, colsample_bytree=1, enable_categorical=False,\n",
       "              gamma=0, gpu_id=-1, importance_type=None,\n",
       "              interaction_constraints='', learning_rate=0.1, max_delta_step=0,\n",
       "              max_depth=6, min_child_weight=4, missing=nan,\n",
       "              monotone_constraints='()', n_estimators=100, n_jobs=4,\n",
       "              num_parallel_tree=1, predictor='auto', random_state=0,\n",
       "              reg_alpha=0.05, reg_lambda=1, scale_pos_weight=85.24, subsample=1,\n",
       "              tree_method='exact', validate_parameters=1, verbosity=None)"
      ]
     },
     "execution_count": 30,
     "metadata": {},
     "output_type": "execute_result"
    }
   ],
   "source": [
    "model = xgb.XGBClassifier(n_estimators=100,scale_pos_weight=85.24,min_child_weight=4,reg_alpha=0.05,learning_rate=0.1)\n",
    "model.fit(X,y)"
   ]
  },
  {
   "cell_type": "code",
   "execution_count": null,
   "id": "6d0f4d1e",
   "metadata": {},
   "outputs": [],
   "source": []
  }
 ],
 "metadata": {
  "kernelspec": {
   "display_name": "Python 3 (ipykernel)",
   "language": "python",
   "name": "python3"
  },
  "language_info": {
   "codemirror_mode": {
    "name": "ipython",
    "version": 3
   },
   "file_extension": ".py",
   "mimetype": "text/x-python",
   "name": "python",
   "nbconvert_exporter": "python",
   "pygments_lexer": "ipython3",
   "version": "3.8.10"
  }
 },
 "nbformat": 4,
 "nbformat_minor": 5
}
